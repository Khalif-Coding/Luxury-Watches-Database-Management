{
 "cells": [
  {
   "cell_type": "markdown",
   "metadata": {},
   "source": [
    "# Introduction"
   ]
  },
  {
   "cell_type": "markdown",
   "metadata": {},
   "source": [
    "**Milestone 3**\n",
    "\n",
    "Nama : Khalif Prabowo Santoso\n",
    "\n",
    "Batch: 029 - HCK\n",
    "\n",
    "Great Expectations dilakukan untuk memastikan kualitas data tetap konsisten dan sesuai standar yang telah ditentukan sebelum digunakan dalam proses analisis atau pemodelan lebih lanjut. Melalui validasi otomatis, Great Expectations membantu mendeteksi anomali seperti nilai null, tipe data yang tidak sesuai, kolom yang hilang, atau distribusi data yang menyimpang, sehingga meminimalkan risiko kesalahan analisis akibat kualitas data yang buruk."
   ]
  },
  {
   "cell_type": "markdown",
   "metadata": {},
   "source": [
    "# Import Libraries"
   ]
  },
  {
   "cell_type": "code",
   "execution_count": 49,
   "metadata": {},
   "outputs": [],
   "source": [
    "import pandas as pd\n",
    "import great_expectations as gx\n",
    "from great_expectations.checkpoint import Checkpoint\n",
    "from great_expectations.core.batch import RuntimeBatchRequest"
   ]
  },
  {
   "cell_type": "markdown",
   "metadata": {},
   "source": [
    "# Data Loading"
   ]
  },
  {
   "cell_type": "code",
   "execution_count": 50,
   "metadata": {},
   "outputs": [
    {
     "name": "stdout",
     "output_type": "stream",
     "text": [
      "0.18.19\n"
     ]
    }
   ],
   "source": [
    "print(gx.__version__)"
   ]
  },
  {
   "cell_type": "markdown",
   "metadata": {},
   "source": [
    "# Data Loading"
   ]
  },
  {
   "cell_type": "code",
   "execution_count": 51,
   "metadata": {},
   "outputs": [],
   "source": [
    "# 1. Load the data (clean version) into a Pandas DataFrame\n",
    "df = pd.read_csv('data/Data_Clean.csv')\n",
    "\n",
    "# 2. Load the GE context\n",
    "context = gx.get_context()\n",
    "\n",
    "# 3. Add a Datasource for Runtime operations (for interactive validator creation)\n",
    "context.add_or_update_datasource(\n",
    "    name=\"runtime_pandas_datasource\",\n",
    "    class_name=\"Datasource\",\n",
    "    execution_engine={\"class_name\": \"PandasExecutionEngine\"},\n",
    "    data_connectors={\n",
    "        \"default_runtime_data_connector_name\": {\n",
    "            \"class_name\": \"RuntimeDataConnector\",\n",
    "            \"batch_identifiers\": [\"default_identifier_name\"]\n",
    "        }\n",
    "    }\n",
    ")\n",
    "\n",
    "# 4. Define the Expectation Suite name\n",
    "expectation_suite_name = 'P2M3_Data_Suite_Khalif'\n",
    "\n",
    "# 5. Add or update the Expectation Suite to the context\n",
    "context.add_or_update_expectation_suite(expectation_suite_name)\n",
    "\n",
    "# 6. Create a RuntimeBatchRequest to get a validator from the DataFrame\n",
    "batch_request_for_validator = RuntimeBatchRequest(\n",
    "    datasource_name= \"runtime_pandas_datasource\",\n",
    "    data_connector_name= \"default_runtime_data_connector_name\",\n",
    "    data_asset_name= \"P2M3_Data_Khalif\", \n",
    "    runtime_parameters= {\"batch_data\": df}, \n",
    "    batch_identifiers= {\"default_identifier_name\": \"id\"}\n",
    ")\n",
    "\n",
    "# 7. Create a validator using the RuntimeBatchRequest and Expectation Suite\n",
    "validator = context.get_validator(\n",
    "    batch_request = batch_request_for_validator,\n",
    "    expectation_suite_name = expectation_suite_name\n",
    ")"
   ]
  },
  {
   "cell_type": "markdown",
   "metadata": {},
   "source": [
    "# Validation"
   ]
  },
  {
   "cell_type": "markdown",
   "metadata": {},
   "source": [
    "## Validation 1 : To Be Unique"
   ]
  },
  {
   "cell_type": "code",
   "execution_count": 52,
   "metadata": {},
   "outputs": [
    {
     "data": {
      "application/vnd.jupyter.widget-view+json": {
       "model_id": "8c6550ccb0da4e94bc24cbca81672b02",
       "version_major": 2,
       "version_minor": 0
      },
      "text/plain": [
       "Calculating Metrics:   0%|          | 0/8 [00:00<?, ?it/s]"
      ]
     },
     "metadata": {},
     "output_type": "display_data"
    },
    {
     "data": {
      "text/plain": [
       "{\n",
       "  \"success\": true,\n",
       "  \"result\": {\n",
       "    \"element_count\": 8341,\n",
       "    \"unexpected_count\": 0,\n",
       "    \"unexpected_percent\": 0.0,\n",
       "    \"partial_unexpected_list\": [],\n",
       "    \"missing_count\": 0,\n",
       "    \"missing_percent\": 0.0,\n",
       "    \"unexpected_percent_total\": 0.0,\n",
       "    \"unexpected_percent_nonmissing\": 0.0\n",
       "  },\n",
       "  \"meta\": {},\n",
       "  \"exception_info\": {\n",
       "    \"raised_exception\": false,\n",
       "    \"exception_traceback\": null,\n",
       "    \"exception_message\": null\n",
       "  }\n",
       "}"
      ]
     },
     "execution_count": 52,
     "metadata": {},
     "output_type": "execute_result"
    }
   ],
   "source": [
    "# Validator column to be unique\n",
    "validator.expect_column_values_to_be_unique(column=\"id\")"
   ]
  },
  {
   "cell_type": "markdown",
   "metadata": {},
   "source": [
    "Berdasarkan Hasilnya:\n",
    "1. Data Quality: Nilai unexpected_count adalah 0 dan unexpected_percent juga 0.0%, menunjukkan bahwa semua data (8341 elemen) sesuai dengan ekspektasi yang telah didefinisikan. Ini adalah indikator kuat bahwa proses ETL dan pembersihan data efektif.\n",
    "\n",
    "2. Kelengkapan Data: Nilai missing_count adalah 0 dan missing_percent juga 0.0%, yang berarti tidak ada nilai yang hilang (missing values) dalam data yang divalidasi. Ini memastikan integritas dan kelengkapan dataset.\n",
    "\n",
    "3. Kesiapan Data: Dengan tidak adanya unexpected values dan missing values, data watchsales yang dihasilkan dari proses ETL berada dalam kondisi 'Clean' dan siap sepenuhnya untuk tahap analisis mendalam serta visualisasi.\n",
    "\n",
    "4. ETL Effectiveness: Hasil ini secara langsung memvalidasi keberhasilan proyek ETL. Data yang dihasilkan benar-benar \"bersih\" seperti yang menjadi tujuan utama."
   ]
  },
  {
   "cell_type": "markdown",
   "metadata": {},
   "source": [
    "## Validation 2 : To Be Between Min Value And Max Value"
   ]
  },
  {
   "cell_type": "code",
   "execution_count": 53,
   "metadata": {},
   "outputs": [
    {
     "data": {
      "application/vnd.jupyter.widget-view+json": {
       "model_id": "d055617fcc674482b1b221e78ca8a49c",
       "version_major": 2,
       "version_minor": 0
      },
      "text/plain": [
       "Calculating Metrics:   0%|          | 0/8 [00:00<?, ?it/s]"
      ]
     },
     "metadata": {},
     "output_type": "display_data"
    },
    {
     "data": {
      "text/plain": [
       "{\n",
       "  \"success\": true,\n",
       "  \"result\": {\n",
       "    \"element_count\": 8341,\n",
       "    \"unexpected_count\": 0,\n",
       "    \"unexpected_percent\": 0.0,\n",
       "    \"partial_unexpected_list\": [],\n",
       "    \"missing_count\": 0,\n",
       "    \"missing_percent\": 0.0,\n",
       "    \"unexpected_percent_total\": 0.0,\n",
       "    \"unexpected_percent_nonmissing\": 0.0\n",
       "  },\n",
       "  \"meta\": {},\n",
       "  \"exception_info\": {\n",
       "    \"raised_exception\": false,\n",
       "    \"exception_traceback\": null,\n",
       "    \"exception_message\": null\n",
       "  }\n",
       "}"
      ]
     },
     "execution_count": 53,
     "metadata": {},
     "output_type": "execute_result"
    }
   ],
   "source": [
    "validator.expect_column_values_to_be_between(column=\"price\", min_value=1.0, max_value=1900000.0)"
   ]
  },
  {
   "cell_type": "markdown",
   "metadata": {},
   "source": [
    "Berdasarkan Hasilnya:\n",
    "1. Sudah True (Sudah Sesuai Dengan Rule Yang Dibuat), Yaitu Hasil Value Pada 'Price' Sudah Berada Dalam Min - Max Value.\n",
    "2. Data Quality: Nilai unexpected_count adalah 0 dan unexpected_percent juga 0.0%, menunjukkan bahwa semua data (8341 elemen) sesuai dengan ekspektasi yang telah didefinisikan. Ini adalah indikator kuat bahwa proses ETL dan pembersihan data efektif.\n",
    "3. Kelengkapan Data: Nilai missing_count adalah 0 dan missing_percent juga 0.0%, yang berarti tidak ada nilai yang hilang (missing values) dalam data yang divalidasi. Ini memastikan integritas dan kelengkapan dataset.\n",
    "4. Kesiapan Data: Dengan tidak adanya unexpected values dan missing values, data watchsales yang dihasilkan dari proses ETL berada dalam kondisi 'Clean' dan siap sepenuhnya untuk tahap analisis mendalam serta visualisasi.\n",
    "5. ETL Effectiveness: Hasil ini secara langsung memvalidasi keberhasilan proyek ETL. Data yang dihasilkan benar-benar \"bersih\" seperti yang menjadi tujuan utama."
   ]
  },
  {
   "cell_type": "markdown",
   "metadata": {},
   "source": [
    "## Validation 3 : To Be In Set"
   ]
  },
  {
   "cell_type": "code",
   "execution_count": 54,
   "metadata": {},
   "outputs": [
    {
     "name": "stdout",
     "output_type": "stream",
     "text": [
      "['Quartz' 'Automatic' 'Manual winding' 'Solar' 'Smartwatch']\n"
     ]
    },
    {
     "data": {
      "application/vnd.jupyter.widget-view+json": {
       "model_id": "e48d7125db934477a7112c88b7f9fccc",
       "version_major": 2,
       "version_minor": 0
      },
      "text/plain": [
       "Calculating Metrics:   0%|          | 0/8 [00:00<?, ?it/s]"
      ]
     },
     "metadata": {},
     "output_type": "display_data"
    },
    {
     "data": {
      "text/plain": [
       "{\n",
       "  \"success\": true,\n",
       "  \"result\": {\n",
       "    \"element_count\": 8341,\n",
       "    \"unexpected_count\": 0,\n",
       "    \"unexpected_percent\": 0.0,\n",
       "    \"partial_unexpected_list\": [],\n",
       "    \"missing_count\": 0,\n",
       "    \"missing_percent\": 0.0,\n",
       "    \"unexpected_percent_total\": 0.0,\n",
       "    \"unexpected_percent_nonmissing\": 0.0\n",
       "  },\n",
       "  \"meta\": {},\n",
       "  \"exception_info\": {\n",
       "    \"raised_exception\": false,\n",
       "    \"exception_traceback\": null,\n",
       "    \"exception_message\": null\n",
       "  }\n",
       "}"
      ]
     },
     "execution_count": 54,
     "metadata": {},
     "output_type": "execute_result"
    }
   ],
   "source": [
    "validator.expect_column_values_to_be_in_set(\"movement\", print(df['movement'].unique()))"
   ]
  },
  {
   "cell_type": "markdown",
   "metadata": {},
   "source": [
    "Berdasarkan Hasilnya:\n",
    "1. Sudah True (Sudah Sesuai Dengan Rule Yang Dibuat), Yaitu Hasil Value Unique Pada 'Movement' Sudah Sesuai Terhadap Data Yang Didefinisikan.\n",
    "2. Data Quality: Nilai unexpected_count adalah 0 dan unexpected_percent juga 0.0%, menunjukkan bahwa semua data (8341 elemen) sesuai dengan ekspektasi yang telah didefinisikan. Ini adalah indikator kuat bahwa proses ETL dan pembersihan data efektif.\n",
    "3. Kelengkapan Data: Nilai missing_count adalah 0 dan missing_percent juga 0.0%, yang berarti tidak ada nilai yang hilang (missing values) dalam data yang divalidasi. Ini memastikan integritas dan kelengkapan dataset.\n",
    "4. Kesiapan Data: Dengan tidak adanya unexpected values dan missing values, data watchsales yang dihasilkan dari proses ETL berada dalam kondisi 'Clean' dan siap sepenuhnya untuk tahap analisis mendalam serta visualisasi.\n",
    "5. ETL Effectiveness: Hasil ini secara langsung memvalidasi keberhasilan proyek ETL. Data yang dihasilkan benar-benar \"bersih\" seperti yang menjadi tujuan utama."
   ]
  },
  {
   "cell_type": "markdown",
   "metadata": {},
   "source": [
    "## Validation 4 : To Be In Type List"
   ]
  },
  {
   "cell_type": "code",
   "execution_count": 55,
   "metadata": {},
   "outputs": [
    {
     "data": {
      "application/vnd.jupyter.widget-view+json": {
       "model_id": "d616c35a0cbb4693aa3b80bc319f1750",
       "version_major": 2,
       "version_minor": 0
      },
      "text/plain": [
       "Calculating Metrics:   0%|          | 0/1 [00:00<?, ?it/s]"
      ]
     },
     "metadata": {},
     "output_type": "display_data"
    },
    {
     "data": {
      "text/plain": [
       "{\n",
       "  \"success\": true,\n",
       "  \"result\": {\n",
       "    \"observed_value\": \"float64\"\n",
       "  },\n",
       "  \"meta\": {},\n",
       "  \"exception_info\": {\n",
       "    \"raised_exception\": false,\n",
       "    \"exception_traceback\": null,\n",
       "    \"exception_message\": null\n",
       "  }\n",
       "}"
      ]
     },
     "execution_count": 55,
     "metadata": {},
     "output_type": "execute_result"
    }
   ],
   "source": [
    "validator.expect_column_values_to_be_in_type_list(\"price\", [\"float\"])"
   ]
  },
  {
   "cell_type": "markdown",
   "metadata": {},
   "source": [
    "Berdasarkan Hasilnya, Data Sudah Sesuai Dan Dikategorikan Sebagai 'Float'. Sehingga Kolom ini siap digunakan untuk analisis visualisasi numerik, seperti:\n",
    "1. Distribusi Harga\n",
    "2. Perhitungan min, max, mean"
   ]
  },
  {
   "cell_type": "markdown",
   "metadata": {},
   "source": [
    "## Validation 5 : Row Count To Be Between"
   ]
  },
  {
   "cell_type": "code",
   "execution_count": 56,
   "metadata": {},
   "outputs": [
    {
     "data": {
      "application/vnd.jupyter.widget-view+json": {
       "model_id": "43538a06c20a4eb484446220b2df8606",
       "version_major": 2,
       "version_minor": 0
      },
      "text/plain": [
       "Calculating Metrics:   0%|          | 0/1 [00:00<?, ?it/s]"
      ]
     },
     "metadata": {},
     "output_type": "display_data"
    },
    {
     "data": {
      "text/plain": [
       "{\n",
       "  \"success\": true,\n",
       "  \"result\": {\n",
       "    \"observed_value\": 8341\n",
       "  },\n",
       "  \"meta\": {},\n",
       "  \"exception_info\": {\n",
       "    \"raised_exception\": false,\n",
       "    \"exception_traceback\": null,\n",
       "    \"exception_message\": null\n",
       "  }\n",
       "}"
      ]
     },
     "execution_count": 56,
     "metadata": {},
     "output_type": "execute_result"
    }
   ],
   "source": [
    "validator.expect_table_row_count_to_be_between(8341)"
   ]
  },
  {
   "cell_type": "markdown",
   "metadata": {},
   "source": [
    "## Validation 6 : Column Count To Equal"
   ]
  },
  {
   "cell_type": "code",
   "execution_count": 57,
   "metadata": {},
   "outputs": [
    {
     "data": {
      "application/vnd.jupyter.widget-view+json": {
       "model_id": "c33d9da112eb4ec881568727b399114c",
       "version_major": 2,
       "version_minor": 0
      },
      "text/plain": [
       "Calculating Metrics:   0%|          | 0/3 [00:00<?, ?it/s]"
      ]
     },
     "metadata": {},
     "output_type": "display_data"
    },
    {
     "data": {
      "text/plain": [
       "{\n",
       "  \"success\": true,\n",
       "  \"result\": {\n",
       "    \"observed_value\": 11\n",
       "  },\n",
       "  \"meta\": {},\n",
       "  \"exception_info\": {\n",
       "    \"raised_exception\": false,\n",
       "    \"exception_traceback\": null,\n",
       "    \"exception_message\": null\n",
       "  }\n",
       "}"
      ]
     },
     "execution_count": 57,
     "metadata": {},
     "output_type": "execute_result"
    }
   ],
   "source": [
    "validator.expect_table_column_count_to_equal(11)"
   ]
  },
  {
   "cell_type": "markdown",
   "metadata": {},
   "source": [
    "Berdasarkan Hasilnya:\n",
    "1. Validasi struktur data lolos yaitu benar terdapat 11 Columns \n",
    "2. Sehingga: Proses downstream (cleaning, transformasi, visualisasi) aman dari error karena kolom hilang atau berlebih."
   ]
  },
  {
   "cell_type": "markdown",
   "metadata": {},
   "source": [
    "## Validation 7 : Table Columns To Match Ordered List"
   ]
  },
  {
   "cell_type": "code",
   "execution_count": 58,
   "metadata": {},
   "outputs": [
    {
     "data": {
      "application/vnd.jupyter.widget-view+json": {
       "model_id": "d0eb6d889969437cafb214ef17037d56",
       "version_major": 2,
       "version_minor": 0
      },
      "text/plain": [
       "Calculating Metrics:   0%|          | 0/2 [00:00<?, ?it/s]"
      ]
     },
     "metadata": {},
     "output_type": "display_data"
    },
    {
     "data": {
      "text/plain": [
       "{\n",
       "  \"success\": true,\n",
       "  \"result\": {\n",
       "    \"observed_value\": [\n",
       "      \"id\",\n",
       "      \"brand\",\n",
       "      \"movement\",\n",
       "      \"case_material\",\n",
       "      \"bracelet_material\",\n",
       "      \"condition\",\n",
       "      \"scope_of_delivery\",\n",
       "      \"gender\",\n",
       "      \"price\",\n",
       "      \"availability\",\n",
       "      \"watches_sold\"\n",
       "    ]\n",
       "  },\n",
       "  \"meta\": {},\n",
       "  \"exception_info\": {\n",
       "    \"raised_exception\": false,\n",
       "    \"exception_traceback\": null,\n",
       "    \"exception_message\": null\n",
       "  }\n",
       "}"
      ]
     },
     "execution_count": 58,
     "metadata": {},
     "output_type": "execute_result"
    }
   ],
   "source": [
    "validator.expect_table_columns_to_match_ordered_list(\n",
    "    column_list=[\"id\", \"brand\", \"movement\", \"case_material\", \"bracelet_material\", \"condition\", \"scope_of_delivery\", \"gender\", \"price\", \"availability\", \"watches_sold\"]\n",
    ")"
   ]
  },
  {
   "cell_type": "markdown",
   "metadata": {},
   "source": [
    "Berdasarkan Hasilnya:\n",
    "1. Columns di dalam tabel memiliki urutan dan nama yang persis seperti yang diharapkan.\n",
    "2. Tidak ada kolom yang hilang, tidak ada kolom tambahan, dan tidak ada pergeseran posisi.\n",
    "3. Sehingga Struktur tabel kamu sepenuhnya valid dan sesuai ekspektasi, artinya bisa dilanjutkan ke tahapan analisis atau modeling, tanpa perlu khawatir ada gangguan dari struktur data."
   ]
  },
  {
   "cell_type": "markdown",
   "metadata": {},
   "source": [
    "# Validator Save"
   ]
  },
  {
   "cell_type": "code",
   "execution_count": 59,
   "metadata": {},
   "outputs": [],
   "source": [
    "validator.save_expectation_suite(discard_failed_expectations=False)"
   ]
  },
  {
   "cell_type": "markdown",
   "metadata": {},
   "source": [
    "Menyimpan semua expectations yang sudah dibuat ke dalam expectation suite di Great Expectations."
   ]
  },
  {
   "cell_type": "markdown",
   "metadata": {},
   "source": [
    "# Validation Checkpoint"
   ]
  },
  {
   "cell_type": "code",
   "execution_count": 60,
   "metadata": {},
   "outputs": [],
   "source": [
    "# 1. Add a Datasource that can read directly from your data files (for Checkpoint)\n",
    "context.add_or_update_datasource(\n",
    "    name=\"file_system_datasource\",\n",
    "    class_name=\"Datasource\",\n",
    "    module_name=\"great_expectations.datasource\",\n",
    "    execution_engine={\"class_name\": \"PandasExecutionEngine\"},\n",
    "    data_connectors={\n",
    "        \"default_inferred_data_connector_name\": {\n",
    "            \"class_name\": \"InferredAssetFilesystemDataConnector\",\n",
    "            \"base_directory\": \"data\", \n",
    "            \"default_regex\": {\n",
    "                \"pattern\": \"(.*)\\\\.csv\", \n",
    "                \"group_names\": [\"data_asset_name\"], \n",
    "            },\n",
    "        }\n",
    "    },\n",
    ")\n",
    "\n",
    "# 2. Define the Checkpoint name\n",
    "name_check = 'Checkpoint_P2M3'\n",
    "\n",
    "# 3. Add or update the Checkpoint\n",
    "checkpoint = context.add_or_update_checkpoint(\n",
    "    name=name_check,\n",
    "    validations=[\n",
    "        {\n",
    "            \"batch_request\": {\n",
    "                \"datasource_name\": \"file_system_datasource\", \n",
    "                \"data_connector_name\": \"default_inferred_data_connector_name\",\n",
    "                \"data_asset_name\": \"Data_Clean\"\n",
    "            },\n",
    "            \"expectation_suite_name\": expectation_suite_name, \n",
    "        }\n",
    "    ],\n",
    "    action_list=[\n",
    "        {\n",
    "            \"name\": \"store_validation_result\",\n",
    "            \"action\": {\"class_name\": \"StoreValidationResultAction\"},\n",
    "        },\n",
    "        {\n",
    "            \"name\": \"update_data_docs\",\n",
    "            \"action\": {\"class_name\": \"UpdateDataDocsAction\"},\n",
    "        },\n",
    "    ]\n",
    ")"
   ]
  },
  {
   "cell_type": "code",
   "execution_count": 61,
   "metadata": {},
   "outputs": [
    {
     "data": {
      "application/vnd.jupyter.widget-view+json": {
       "model_id": "2735da8af31d42599e1a81bfc78cde2c",
       "version_major": 2,
       "version_minor": 0
      },
      "text/plain": [
       "Calculating Metrics:   0%|          | 0/25 [00:00<?, ?it/s]"
      ]
     },
     "metadata": {},
     "output_type": "display_data"
    },
    {
     "data": {
      "text/plain": [
       "{\n",
       "  \"run_id\": {\n",
       "    \"run_name\": null,\n",
       "    \"run_time\": \"2025-08-04T20:14:03.342200+07:00\"\n",
       "  },\n",
       "  \"run_results\": {\n",
       "    \"ValidationResultIdentifier::P2M3_Data_Suite_Khalif/__none__/20250804T131403.342200Z/bd5ddc1024dfa4fc563b6137c973d6f5\": {\n",
       "      \"validation_result\": {\n",
       "        \"success\": true,\n",
       "        \"results\": [\n",
       "          {\n",
       "            \"success\": true,\n",
       "            \"expectation_config\": {\n",
       "              \"expectation_type\": \"expect_column_values_to_be_unique\",\n",
       "              \"kwargs\": {\n",
       "                \"column\": \"id\",\n",
       "                \"batch_id\": \"bd5ddc1024dfa4fc563b6137c973d6f5\"\n",
       "              },\n",
       "              \"meta\": {}\n",
       "            },\n",
       "            \"result\": {\n",
       "              \"element_count\": 8341,\n",
       "              \"unexpected_count\": 0,\n",
       "              \"unexpected_percent\": 0.0,\n",
       "              \"partial_unexpected_list\": [],\n",
       "              \"missing_count\": 0,\n",
       "              \"missing_percent\": 0.0,\n",
       "              \"unexpected_percent_total\": 0.0,\n",
       "              \"unexpected_percent_nonmissing\": 0.0,\n",
       "              \"partial_unexpected_counts\": [],\n",
       "              \"partial_unexpected_index_list\": []\n",
       "            },\n",
       "            \"meta\": {},\n",
       "            \"exception_info\": {\n",
       "              \"raised_exception\": false,\n",
       "              \"exception_traceback\": null,\n",
       "              \"exception_message\": null\n",
       "            }\n",
       "          },\n",
       "          {\n",
       "            \"success\": true,\n",
       "            \"expectation_config\": {\n",
       "              \"expectation_type\": \"expect_column_values_to_be_between\",\n",
       "              \"kwargs\": {\n",
       "                \"column\": \"price\",\n",
       "                \"max_value\": 1900000.0,\n",
       "                \"min_value\": 1.0,\n",
       "                \"batch_id\": \"bd5ddc1024dfa4fc563b6137c973d6f5\"\n",
       "              },\n",
       "              \"meta\": {}\n",
       "            },\n",
       "            \"result\": {\n",
       "              \"element_count\": 8341,\n",
       "              \"unexpected_count\": 0,\n",
       "              \"unexpected_percent\": 0.0,\n",
       "              \"partial_unexpected_list\": [],\n",
       "              \"missing_count\": 0,\n",
       "              \"missing_percent\": 0.0,\n",
       "              \"unexpected_percent_total\": 0.0,\n",
       "              \"unexpected_percent_nonmissing\": 0.0,\n",
       "              \"partial_unexpected_counts\": [],\n",
       "              \"partial_unexpected_index_list\": []\n",
       "            },\n",
       "            \"meta\": {},\n",
       "            \"exception_info\": {\n",
       "              \"raised_exception\": false,\n",
       "              \"exception_traceback\": null,\n",
       "              \"exception_message\": null\n",
       "            }\n",
       "          },\n",
       "          {\n",
       "            \"success\": true,\n",
       "            \"expectation_config\": {\n",
       "              \"expectation_type\": \"expect_column_values_to_be_in_type_list\",\n",
       "              \"kwargs\": {\n",
       "                \"column\": \"price\",\n",
       "                \"type_list\": [\n",
       "                  \"float\"\n",
       "                ],\n",
       "                \"batch_id\": \"bd5ddc1024dfa4fc563b6137c973d6f5\"\n",
       "              },\n",
       "              \"meta\": {}\n",
       "            },\n",
       "            \"result\": {\n",
       "              \"observed_value\": \"float64\"\n",
       "            },\n",
       "            \"meta\": {},\n",
       "            \"exception_info\": {\n",
       "              \"raised_exception\": false,\n",
       "              \"exception_traceback\": null,\n",
       "              \"exception_message\": null\n",
       "            }\n",
       "          },\n",
       "          {\n",
       "            \"success\": true,\n",
       "            \"expectation_config\": {\n",
       "              \"expectation_type\": \"expect_column_values_to_be_in_set\",\n",
       "              \"kwargs\": {\n",
       "                \"column\": \"movement\",\n",
       "                \"value_set\": null,\n",
       "                \"batch_id\": \"bd5ddc1024dfa4fc563b6137c973d6f5\"\n",
       "              },\n",
       "              \"meta\": {}\n",
       "            },\n",
       "            \"result\": {\n",
       "              \"element_count\": 8341,\n",
       "              \"unexpected_count\": 0,\n",
       "              \"unexpected_percent\": 0.0,\n",
       "              \"partial_unexpected_list\": [],\n",
       "              \"missing_count\": 0,\n",
       "              \"missing_percent\": 0.0,\n",
       "              \"unexpected_percent_total\": 0.0,\n",
       "              \"unexpected_percent_nonmissing\": 0.0,\n",
       "              \"partial_unexpected_counts\": [],\n",
       "              \"partial_unexpected_index_list\": []\n",
       "            },\n",
       "            \"meta\": {},\n",
       "            \"exception_info\": {\n",
       "              \"raised_exception\": false,\n",
       "              \"exception_traceback\": null,\n",
       "              \"exception_message\": null\n",
       "            }\n",
       "          },\n",
       "          {\n",
       "            \"success\": true,\n",
       "            \"expectation_config\": {\n",
       "              \"expectation_type\": \"expect_table_row_count_to_be_between\",\n",
       "              \"kwargs\": {\n",
       "                \"min_value\": 8341,\n",
       "                \"batch_id\": \"bd5ddc1024dfa4fc563b6137c973d6f5\"\n",
       "              },\n",
       "              \"meta\": {}\n",
       "            },\n",
       "            \"result\": {\n",
       "              \"observed_value\": 8341\n",
       "            },\n",
       "            \"meta\": {},\n",
       "            \"exception_info\": {\n",
       "              \"raised_exception\": false,\n",
       "              \"exception_traceback\": null,\n",
       "              \"exception_message\": null\n",
       "            }\n",
       "          },\n",
       "          {\n",
       "            \"success\": true,\n",
       "            \"expectation_config\": {\n",
       "              \"expectation_type\": \"expect_table_column_count_to_equal\",\n",
       "              \"kwargs\": {\n",
       "                \"value\": 11,\n",
       "                \"batch_id\": \"bd5ddc1024dfa4fc563b6137c973d6f5\"\n",
       "              },\n",
       "              \"meta\": {}\n",
       "            },\n",
       "            \"result\": {\n",
       "              \"observed_value\": 11\n",
       "            },\n",
       "            \"meta\": {},\n",
       "            \"exception_info\": {\n",
       "              \"raised_exception\": false,\n",
       "              \"exception_traceback\": null,\n",
       "              \"exception_message\": null\n",
       "            }\n",
       "          },\n",
       "          {\n",
       "            \"success\": true,\n",
       "            \"expectation_config\": {\n",
       "              \"expectation_type\": \"expect_table_columns_to_match_ordered_list\",\n",
       "              \"kwargs\": {\n",
       "                \"column_list\": [\n",
       "                  \"id\",\n",
       "                  \"brand\",\n",
       "                  \"movement\",\n",
       "                  \"case_material\",\n",
       "                  \"bracelet_material\",\n",
       "                  \"condition\",\n",
       "                  \"scope_of_delivery\",\n",
       "                  \"gender\",\n",
       "                  \"price\",\n",
       "                  \"availability\",\n",
       "                  \"watches_sold\"\n",
       "                ],\n",
       "                \"batch_id\": \"bd5ddc1024dfa4fc563b6137c973d6f5\"\n",
       "              },\n",
       "              \"meta\": {}\n",
       "            },\n",
       "            \"result\": {\n",
       "              \"observed_value\": [\n",
       "                \"id\",\n",
       "                \"brand\",\n",
       "                \"movement\",\n",
       "                \"case_material\",\n",
       "                \"bracelet_material\",\n",
       "                \"condition\",\n",
       "                \"scope_of_delivery\",\n",
       "                \"gender\",\n",
       "                \"price\",\n",
       "                \"availability\",\n",
       "                \"watches_sold\"\n",
       "              ]\n",
       "            },\n",
       "            \"meta\": {},\n",
       "            \"exception_info\": {\n",
       "              \"raised_exception\": false,\n",
       "              \"exception_traceback\": null,\n",
       "              \"exception_message\": null\n",
       "            }\n",
       "          }\n",
       "        ],\n",
       "        \"evaluation_parameters\": {},\n",
       "        \"statistics\": {\n",
       "          \"evaluated_expectations\": 7,\n",
       "          \"successful_expectations\": 7,\n",
       "          \"unsuccessful_expectations\": 0,\n",
       "          \"success_percent\": 100.0\n",
       "        },\n",
       "        \"meta\": {\n",
       "          \"great_expectations_version\": \"0.18.19\",\n",
       "          \"expectation_suite_name\": \"P2M3_Data_Suite_Khalif\",\n",
       "          \"run_id\": {\n",
       "            \"run_name\": null,\n",
       "            \"run_time\": \"2025-08-04T20:14:03.342200+07:00\"\n",
       "          },\n",
       "          \"batch_spec\": {\n",
       "            \"path\": \"data/Data_Clean.csv\"\n",
       "          },\n",
       "          \"batch_markers\": {\n",
       "            \"ge_load_time\": \"20250804T131403.355843Z\",\n",
       "            \"pandas_data_fingerprint\": \"46c8d98d3e3ecb209e39162f4649c528\"\n",
       "          },\n",
       "          \"active_batch_definition\": {\n",
       "            \"datasource_name\": \"file_system_datasource\",\n",
       "            \"data_connector_name\": \"default_inferred_data_connector_name\",\n",
       "            \"data_asset_name\": \"Data_Clean\",\n",
       "            \"batch_identifiers\": {}\n",
       "          },\n",
       "          \"validation_time\": \"20250804T131403.387323Z\",\n",
       "          \"checkpoint_name\": \"Checkpoint_P2M3\",\n",
       "          \"validation_id\": null,\n",
       "          \"checkpoint_id\": null\n",
       "        }\n",
       "      },\n",
       "      \"actions_results\": {\n",
       "        \"store_validation_result\": {\n",
       "          \"class\": \"StoreValidationResultAction\"\n",
       "        },\n",
       "        \"update_data_docs\": {\n",
       "          \"local_site\": \"file:///var/folders/ct/s2wc2gy11hj_h3hfr7l8v3nh0000gn/T/tmp89jzf7jp/validations/P2M3_Data_Suite_Khalif/__none__/20250804T131403.342200Z/bd5ddc1024dfa4fc563b6137c973d6f5.html\",\n",
       "          \"class\": \"UpdateDataDocsAction\"\n",
       "        }\n",
       "      }\n",
       "    }\n",
       "  },\n",
       "  \"checkpoint_config\": {\n",
       "    \"expectation_suite_name\": null,\n",
       "    \"default_validation_id\": null,\n",
       "    \"run_name_template\": null,\n",
       "    \"site_names\": null,\n",
       "    \"template_name\": null,\n",
       "    \"class_name\": \"Checkpoint\",\n",
       "    \"profilers\": [],\n",
       "    \"expectation_suite_ge_cloud_id\": null,\n",
       "    \"notify_with\": null,\n",
       "    \"batch_request\": {},\n",
       "    \"validations\": [\n",
       "      {\n",
       "        \"id\": null,\n",
       "        \"expectation_suite_name\": \"P2M3_Data_Suite_Khalif\",\n",
       "        \"batch_request\": {\n",
       "          \"datasource_name\": \"file_system_datasource\",\n",
       "          \"data_connector_name\": \"default_inferred_data_connector_name\",\n",
       "          \"data_asset_name\": \"Data_Clean\"\n",
       "        },\n",
       "        \"name\": null,\n",
       "        \"expectation_suite_ge_cloud_id\": null\n",
       "      }\n",
       "    ],\n",
       "    \"name\": \"Checkpoint_P2M3\",\n",
       "    \"slack_webhook\": null,\n",
       "    \"evaluation_parameters\": {},\n",
       "    \"ge_cloud_id\": null,\n",
       "    \"module_name\": \"great_expectations.checkpoint\",\n",
       "    \"notify_on\": null,\n",
       "    \"action_list\": [\n",
       "      {\n",
       "        \"name\": \"store_validation_result\",\n",
       "        \"action\": {\n",
       "          \"class_name\": \"StoreValidationResultAction\"\n",
       "        }\n",
       "      },\n",
       "      {\n",
       "        \"name\": \"update_data_docs\",\n",
       "        \"action\": {\n",
       "          \"class_name\": \"UpdateDataDocsAction\"\n",
       "        }\n",
       "      }\n",
       "    ],\n",
       "    \"config_version\": 1.0,\n",
       "    \"runtime_configuration\": {}\n",
       "  },\n",
       "  \"success\": true\n",
       "}"
      ]
     },
     "execution_count": 61,
     "metadata": {},
     "output_type": "execute_result"
    }
   ],
   "source": [
    "# Menjalankan Function Checkpoint Yang Di Define Diatas\n",
    "checkpoint.run()"
   ]
  },
  {
   "cell_type": "markdown",
   "metadata": {},
   "source": [
    "Semua hasil pemeriksaan di atas menunjukkan bahwa validasi yang telah disimpan berhasil, artinya validasi untuk dataset yang telah dibersihkan ini berhasil."
   ]
  },
  {
   "cell_type": "markdown",
   "metadata": {},
   "source": [
    "# Data Docs"
   ]
  },
  {
   "cell_type": "code",
   "execution_count": 62,
   "metadata": {},
   "outputs": [
    {
     "data": {
      "text/plain": [
       "{'local_site': 'file:///var/folders/ct/s2wc2gy11hj_h3hfr7l8v3nh0000gn/T/tmp89jzf7jp/index.html'}"
      ]
     },
     "execution_count": 62,
     "metadata": {},
     "output_type": "execute_result"
    }
   ],
   "source": [
    "# Build Data Docs\n",
    "context.build_data_docs()"
   ]
  },
  {
   "cell_type": "code",
   "execution_count": 63,
   "metadata": {},
   "outputs": [],
   "source": [
    "# Open Data Docs\n",
    "context.open_data_docs()"
   ]
  },
  {
   "cell_type": "markdown",
   "metadata": {},
   "source": [
    "# Conclusion"
   ]
  },
  {
   "cell_type": "markdown",
   "metadata": {},
   "source": [
    "Berdasarkan Hasil Semua Validasi:\n",
    "1. Terlihat Sudah True.\n",
    "2. Dimulai Dari:\n",
    "- Validation 1: Column To be Unique - Success\n",
    "- Validation 2: Column To Be Between Min Value And Max Value - Success\n",
    "- Validation 3: Column To Be In Set - Success\n",
    "- Validation 4: Column To Be In Type List - Success\n",
    "- Validation 5: Column Row Count To Be Between - Success\n",
    "- Validation 6: Column Count To Equal - Success\n",
    "- Validation 7: Column To Match Ordered List - Success\n",
    "3. Hasil Ini Bisa Dibuktikan Dengan Hasil Docs Yang Sudah Di Screeshot Kedalam P2M3_Khalif_GX_Result"
   ]
  }
 ],
 "metadata": {
  "kernelspec": {
   "display_name": "tfenv310",
   "language": "python",
   "name": "python3"
  },
  "language_info": {
   "codemirror_mode": {
    "name": "ipython",
    "version": 3
   },
   "file_extension": ".py",
   "mimetype": "text/x-python",
   "name": "python",
   "nbconvert_exporter": "python",
   "pygments_lexer": "ipython3",
   "version": "3.10.18"
  }
 },
 "nbformat": 4,
 "nbformat_minor": 2
}
